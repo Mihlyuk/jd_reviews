{
 "cells": [
  {
   "cell_type": "code",
   "execution_count": 1,
   "metadata": {
    "collapsed": false
   },
   "outputs": [
    {
     "name": "stderr",
     "output_type": "stream",
     "text": [
      "Using TensorFlow backend.\n"
     ]
    }
   ],
   "source": [
    "import pandas as pd\n",
    "import numpy as np\n",
    "import re\n",
    "import matplotlib.pyplot as plt\n",
    "import warnings\n",
    "warnings.filterwarnings('ignore')"
   ]
  },
  {
   "cell_type": "code",
   "execution_count": 2,
   "metadata": {
    "collapsed": true
   },
   "outputs": [],
   "source": [
    "data = pd.read_csv('data/reviews.csv')"
   ]
  },
  {
   "cell_type": "code",
   "execution_count": 3,
   "metadata": {
    "collapsed": false
   },
   "outputs": [],
   "source": [
    "data = data[data['review'].apply(lambda x: isinstance(x, str))]\n",
    "data = data[data['stars'].apply(lambda x: not np.isnan(x) and (x == 1 or x == 5))]\n",
    "data['review'] = data['review'].apply(lambda x: ''.join(re.findall('\\w+', x)))\n",
    "data['created_at'] = data['created_at'].apply(pd.to_datetime)\n",
    "data['year'] = data['created_at'].apply(lambda x: x.year)\n",
    "data['stars'] = data['stars'].apply(lambda x: int(x))\n",
    "data['stars_normalize'] = data['stars'].apply(lambda x: x / 5)\n",
    "\n",
    "def star_to_binary(x):\n",
    "    if x == 5:\n",
    "        return 1\n",
    "    elif x == 1:\n",
    "        return 0\n",
    "data['stars_binary'] = data['stars'].apply(lambda x: star_to_binary(x))"
   ]
  },
  {
   "cell_type": "code",
   "execution_count": 9,
   "metadata": {},
   "outputs": [],
   "source": [
    "data['review']\n",
    "symbols = []\n",
    "for review in data['review']:\n",
    "    symbols += list(review)\n",
    "    \n",
    "grouped_dict = {}    \n",
    "for symbol in symbols:\n",
    "    if symbol in grouped_dict:\n",
    "        grouped_dict[symbol] += 1\n",
    "    else: \n",
    "        grouped_dict[symbol] = 1\n",
    "        \n",
    "sorted_words = sorted([(k, v) for k, v in grouped_dict.items()], key=lambda x: x[1], reverse=True)\n",
    "word2index = {}\n",
    "index2word = {}\n",
    "index2count = []\n",
    "for idx, val in enumerate(sorted_words):\n",
    "    index2word[idx] = val[0]\n",
    "    word2index[val[0]] = idx\n",
    "    index2count.append((idx, val[1]))\n",
    "    \n",
    "data['review_indexes'] = data['review'].apply(lambda x: list(map(lambda word: word2index[word], list(x))))"
   ]
  },
  {
   "cell_type": "code",
   "execution_count": 24,
   "metadata": {
    "collapsed": true
   },
   "outputs": [],
   "source": [
    "x_train = data[data['year'] < 2018]['review_indexes']\n",
    "x_test = data[data['year'] == 2018]['review_indexes']\n",
    "\n",
    "y_train = data[data['year'] < 2018]['stars_binary']\n",
    "y_train_normalize = data[data['year'] < 2018]['stars_normalize']\n",
    "y_train_binary = data[data['year'] < 2018]['stars_binary']\n",
    "\n",
    "y_test_binary = data[data['year'] == 2018]['stars_binary']\n",
    "y_test_normalize = data[data['year'] == 2018]['stars_normalize']\n",
    "y_test = data[data['year'] == 2018]['stars_binary']"
   ]
  },
  {
   "cell_type": "code",
   "execution_count": 26,
   "metadata": {},
   "outputs": [
    {
     "name": "stdout",
     "output_type": "stream",
     "text": [
      "Maximum review length: 727\nMinimum review length: 0\n"
     ]
    }
   ],
   "source": [
    "print('Maximum review length: {}'.format(len(max((pd.Series(x_train).append(pd.Series(x_test))), key=len))))\n",
    "print('Minimum review length: {}'.format(len(min((pd.Series(x_train).append(pd.Series(x_test))), key=len))))\n",
    "\n",
    "# the histogram of the data\n",
    "n, bins, patches = plt.hist(list(map(lambda x: word2index[x], symbols)), 1000)\n",
    "plt.grid(True)\n",
    "plt.show()"
   ]
  },
  {
   "cell_type": "code",
   "execution_count": 28,
   "metadata": {},
   "outputs": [
    {
     "name": "stdout",
     "output_type": "stream",
     "text": [
      "_________________________________________________________________\nLayer (type)                 Output Shape              Param #   \n=================================================================\nembedding_5 (Embedding)      (None, 500, 128)          505088    \n_________________________________________________________________\nlstm_9 (LSTM)                (None, 500, 64)           49408     \n_________________________________________________________________\nlstm_10 (LSTM)               (None, 64)                33024     \n_________________________________________________________________\ndropout_5 (Dropout)          (None, 64)                0         \n_________________________________________________________________\ndense_5 (Dense)              (None, 1)                 65        \n_________________________________________________________________\nactivation_5 (Activation)    (None, 1)                 0         \n=================================================================\nTotal params: 587,585\nTrainable params: 587,585\nNon-trainable params: 0\n_________________________________________________________________\nNone\n"
     ]
    }
   ],
   "source": [
    "from keras import Sequential\n",
    "from keras.layers import Dropout, Activation, Embedding, LSTM, Dense\n",
    "from keras.preprocessing import sequence\n",
    "\n",
    "max_words = 500\n",
    "x_train = sequence.pad_sequences(x_train, maxlen=max_words)\n",
    "x_test = sequence.pad_sequences(x_test, maxlen=max_words)\n",
    "\n",
    "model = Sequential()\n",
    "model.add(Embedding(len(grouped_dict), 128, input_length=max_words))\n",
    "model.add(LSTM(64, return_sequences=True))\n",
    "model.add(LSTM(64))\n",
    "model.add(Dropout(0.5))\n",
    "model.add(Dense(1))\n",
    "model.add(Activation('sigmoid'))\n",
    "model.compile(loss='binary_crossentropy', optimizer='adam', metrics=['accuracy'])\n",
    "print(model.summary())"
   ]
  },
  {
   "cell_type": "code",
   "execution_count": null,
   "metadata": {},
   "outputs": [
    {
     "ename": "NameError",
     "evalue": "name 'model' is not defined",
     "traceback": [
      "\u001b[0;31m---------------------------------------------------------------------------\u001b[0m",
      "\u001b[0;31mNameError\u001b[0m                                 Traceback (most recent call last)",
      "\u001b[0;32m<ipython-input-3-d8d7affb4094>\u001b[0m in \u001b[0;36m<module>\u001b[0;34m()\u001b[0m\n\u001b[1;32m      2\u001b[0m \u001b[0mnum_epochs\u001b[0m \u001b[0;34m=\u001b[0m \u001b[0;36m3\u001b[0m\u001b[0;34m\u001b[0m\u001b[0;34m\u001b[0m\u001b[0m\n\u001b[1;32m      3\u001b[0m \u001b[0;34m\u001b[0m\u001b[0m\n\u001b[0;32m----> 4\u001b[0;31m \u001b[0mmodel\u001b[0m\u001b[0;34m.\u001b[0m\u001b[0mfit\u001b[0m\u001b[0;34m(\u001b[0m\u001b[0mx_train\u001b[0m\u001b[0;34m,\u001b[0m \u001b[0my_train\u001b[0m\u001b[0;34m,\u001b[0m \u001b[0mepochs\u001b[0m\u001b[0;34m=\u001b[0m\u001b[0;36m1\u001b[0m\u001b[0;34m)\u001b[0m\u001b[0;34m\u001b[0m\u001b[0;34m\u001b[0m\u001b[0m\n\u001b[0m",
      "\u001b[0;31mNameError\u001b[0m: name 'model' is not defined"
     ],
     "output_type": "error"
    }
   ],
   "source": [
    "model.fit(x_train, y_train)\n",
    "model.save('models/jd_reviews_model.h5')"
   ]
  },
  {
   "cell_type": "code",
   "execution_count": 1,
   "metadata": {},
   "outputs": [
    {
     "name": "stdout",
     "output_type": "stream",
     "text": [
      "Xtest {x_test[:10]}\n"
     ]
    },
    {
     "ename": "NameError",
     "evalue": "name 'y_test' is not defined",
     "traceback": [
      "\u001b[0;31m---------------------------------------------------------------------------\u001b[0m",
      "\u001b[0;31mNameError\u001b[0m                                 Traceback (most recent call last)",
      "\u001b[0;32m<ipython-input-1-d6c2571b5a16>\u001b[0m in \u001b[0;36m<module>\u001b[0;34m()\u001b[0m\n\u001b[1;32m      1\u001b[0m \u001b[0mprint\u001b[0m\u001b[0;34m(\u001b[0m\u001b[0;34m\"Xtest {x_test[:10]}\"\u001b[0m\u001b[0;34m)\u001b[0m\u001b[0;34m\u001b[0m\u001b[0;34m\u001b[0m\u001b[0m\n\u001b[0;32m----> 2\u001b[0;31m \u001b[0my_test\u001b[0m\u001b[0;34m[\u001b[0m\u001b[0;34m:\u001b[0m\u001b[0;36m10\u001b[0m\u001b[0;34m]\u001b[0m\u001b[0;34m\u001b[0m\u001b[0;34m\u001b[0m\u001b[0m\n\u001b[0m\u001b[1;32m      3\u001b[0m \u001b[0mmodel\u001b[0m\u001b[0;34m.\u001b[0m\u001b[0mpredict\u001b[0m\u001b[0;34m(\u001b[0m\u001b[0mx_test\u001b[0m\u001b[0;34m[\u001b[0m\u001b[0;34m:\u001b[0m\u001b[0;36m10\u001b[0m\u001b[0;34m]\u001b[0m\u001b[0;34m,\u001b[0m \u001b[0mverbose\u001b[0m\u001b[0;34m=\u001b[0m\u001b[0;36m1\u001b[0m\u001b[0;34m)\u001b[0m\u001b[0;34m\u001b[0m\u001b[0;34m\u001b[0m\u001b[0m\n",
      "\u001b[0;31mNameError\u001b[0m: name 'y_test' is not defined"
     ],
     "output_type": "error"
    }
   ],
   "source": [
    "accuracy = model.evaluate(x_test, y_test)[1]\n",
    "print(f\"Predict with accuracy {accuracy}%\")"
   ]
  }
 ],
 "metadata": {
  "kernelspec": {
   "display_name": "Python 2",
   "language": "python",
   "name": "python2"
  },
  "language_info": {
   "codemirror_mode": {
    "name": "ipython",
    "version": 2
   },
   "file_extension": ".py",
   "mimetype": "text/x-python",
   "name": "python",
   "nbconvert_exporter": "python",
   "pygments_lexer": "ipython2",
   "version": "2.7.6"
  }
 },
 "nbformat": 4,
 "nbformat_minor": 0
}
