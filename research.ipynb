{
 "cells": [
  {
   "cell_type": "markdown",
   "metadata": {},
   "source": [
    "## Тестовое задание\n",
    "\n",
    "### Анализ исходных данных\n",
    "Так как исходные данные на китайском языке (в котором я не достаточно силен), я не стал удалять из него частоиспользуемые слова. Так как с помощью соединения \n"
   ]
  },
  {
   "cell_type": "code",
   "execution_count": 1,
   "metadata": {},
   "outputs": [],
   "source": [
    "import pandas as pd\n",
    "import numpy as np\n",
    "import re\n",
    "import matplotlib.pyplot as plt\n",
    "import warnings\n",
    "warnings.filterwarnings('ignore')"
   ]
  },
  {
   "cell_type": "code",
   "execution_count": 2,
   "metadata": {},
   "outputs": [],
   "source": [
    "data = pd.read_csv('data/reviews.csv')"
   ]
  },
  {
   "cell_type": "code",
   "execution_count": 10,
   "metadata": {},
   "outputs": [],
   "source": [
    "# Filter bad values\n",
    "data = data[data['review'].apply(lambda x: isinstance(x, str))]\n",
    "data = data[data['stars'].apply(lambda x: not np.isnan(x))]\n",
    "#data['review'] = data['review'].apply(lambda x: ''.join(re.findall('\\w+', x)))\n",
    "data['created_at'] = data['created_at'].apply(pd.to_datetime)\n",
    "data['year'] = data['created_at'].apply(lambda x: x.year)\n",
    "data['normalized_stars'] = data['stars'].apply(lambda x: (x - 1) / 4)"
   ]
  },
  {
   "cell_type": "code",
   "execution_count": 11,
   "metadata": {},
   "outputs": [],
   "source": [
    "symbols = []\n",
    "grouped_symbols = {}  \n",
    "\n",
    "for review in data['review']:\n",
    "    symbols += list(review)\n",
    "  \n",
    "for symbol in symbols:\n",
    "    if symbol in grouped_symbols:\n",
    "        grouped_symbols[symbol] += 1\n",
    "    else: \n",
    "        grouped_symbols[symbol] = 1\n",
    "        \n",
    "sorted_words = sorted([(k, v) for k, v in grouped_symbols.items()], key=lambda x: x[1], reverse=True)\n",
    "word2index = {}\n",
    "index2word = {}\n",
    "\n",
    "for idx, val in enumerate(sorted_words):\n",
    "    index2word[idx] = val[0]\n",
    "    word2index[val[0]] = idx\n",
    "    \n",
    "data['review_indexes'] = data['review'].apply(lambda x: list(map(lambda word: word2index[word], list(x))))"
   ]
  },
  {
   "cell_type": "code",
   "execution_count": 12,
   "metadata": {},
   "outputs": [],
   "source": [
    "train_data = data[(data['year'] < 2018) & (data['stars'].apply(lambda x: x in [1.0, 5.0]))]\n",
    "test_data = data[data['year'] == 2018]\n",
    "\n",
    "train_x = train_data['review_indexes']\n",
    "train_y = train_data['normalized_stars']\n",
    "test_x = test_data['review_indexes']\n",
    "test_y = test_data['normalized_stars']"
   ]
  },
  {
   "cell_type": "code",
   "execution_count": 13,
   "metadata": {},
   "outputs": [
    {
     "name": "stdout",
     "output_type": "stream",
     "text": [
      "Maximum review length: 727\n",
      "Minimum review length: 0\n"
     ]
    },
    {
     "data": {
      "image/png": "[encoded data removed]",
      "text/plain": [
       "<Figure size 432x288 with 1 Axes>"
      ]
     },
     "metadata": {
      "needs_background": "light"
     },
     "output_type": "display_data"
    }
   ],
   "source": [
    "print('Maximum review length: {}'.format(len(max((pd.Series(train_x).append(pd.Series(test_x))), key=len))))\n",
    "print('Minimum review length: {}'.format(len(min((pd.Series(train_x).append(pd.Series(test_x))), key=len))))\n",
    "\n",
    "# the histogram of the data\n",
    "n, bins, patches = plt.hist(list(map(lambda x: word2index[x], symbols)), 1000)\n",
    "plt.xlabel('Word index in order of frequency')\n",
    "plt.ylabel('Frequency')\n",
    "plt.axis([0, 2000, 0, 100000])\n",
    "\n",
    "plt.grid(True)\n",
    "plt.show()"
   ]
  },
  {
   "cell_type": "code",
   "execution_count": 14,
   "metadata": {},
   "outputs": [],
   "source": [
    "from keras.preprocessing import sequence\n",
    "\n",
    "max_words = 500\n",
    "train_x = sequence.pad_sequences(train_x, maxlen=max_words)\n",
    "test_x = sequence.pad_sequences(test_x, maxlen=max_words)"
   ]
  },
  {
   "cell_type": "code",
   "execution_count": 15,
   "metadata": {},
   "outputs": [
    {
     "name": "stdout",
     "output_type": "stream",
     "text": [
      "_________________________________________________________________\n",
      "Layer (type)                 Output Shape              Param #   \n",
      "=================================================================\n",
      "embedding_2 (Embedding)      (None, 500, 128)          563584    \n",
      "_________________________________________________________________\n",
      "lstm_3 (LSTM)                (None, 500, 64)           49408     \n",
      "_________________________________________________________________\n",
      "lstm_4 (LSTM)                (None, 64)                33024     \n",
      "_________________________________________________________________\n",
      "dropout_2 (Dropout)          (None, 64)                0         \n",
      "_________________________________________________________________\n",
      "dense_2 (Dense)              (None, 1)                 65        \n",
      "_________________________________________________________________\n",
      "activation_2 (Activation)    (None, 1)                 0         \n",
      "=================================================================\n",
      "Total params: 646,081\n",
      "Trainable params: 646,081\n",
      "Non-trainable params: 0\n",
      "_________________________________________________________________\n",
      "None\n"
     ]
    }
   ],
   "source": [
    "from keras import Sequential\n",
    "from keras.layers import Dropout, Activation, Embedding, LSTM, Dense\n",
    "\n",
    "model = Sequential()\n",
    "model.add(Embedding(len(grouped_symbols), 128, input_length=max_words))\n",
    "model.add(LSTM(64, return_sequences=True))\n",
    "model.add(LSTM(64))\n",
    "model.add(Dropout(0.5))\n",
    "model.add(Dense(1))\n",
    "model.add(Activation('sigmoid'))\n",
    "model.compile(loss='binary_crossentropy', optimizer='adam', metrics=['accuracy'])\n",
    "print(model.summary())"
   ]
  },
  {
   "cell_type": "code",
   "execution_count": 16,
   "metadata": {},
   "outputs": [
    {
     "name": "stdout",
     "output_type": "stream",
     "text": [
      "Train on 53118 samples, validate on 3127 samples\n",
      "Epoch 1/2\n",
      "53118/53118 [==============================] - 1666s 31ms/step - loss: 0.2197 - acc: 0.9101 - val_loss: 0.6093 - val_acc: 0.5555\n",
      "Epoch 2/2\n",
      "53118/53118 [==============================] - 2011s 38ms/step - loss: 0.1695 - acc: 0.9349 - val_loss: 0.5384 - val_acc: 0.5596\n"
     ]
    }
   ],
   "source": [
    "model.fit(train_x, train_y, epochs=2, validation_data=(test_x, test_y))\n",
    "model.save('models/jd_reviews_model.h5')"
   ]
  }
 ],
 "metadata": {
  "kernelspec": {
   "display_name": "Python 2",
   "language": "python",
   "name": "python2"
  },
  "language_info": {
   "codemirror_mode": {
    "name": "ipython",
    "version": 3
   },
   "file_extension": ".py",
   "mimetype": "text/x-python",
   "name": "python",
   "nbconvert_exporter": "python",
   "pygments_lexer": "ipython3",
   "version": "3.6.8"
  }
 },
 "nbformat": 4,
 "nbformat_minor": 1
}
