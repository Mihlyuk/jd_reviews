{
 "cells": [
  {
   "cell_type": "code",
   "execution_count": 6,
   "metadata": {
    "collapsed": true
   },
   "outputs": [],
   "source": [
    "from keras.models import load_model\n",
    "import pandas as pd"
   ]
  },
  {
   "cell_type": "code",
   "execution_count": 5,
   "metadata": {},
   "outputs": [],
   "source": [
    "model = load_model('models/jd_reviews_model.h5')"
   ]
  },
  {
   "cell_type": "code",
   "execution_count": null,
   "metadata": {},
   "outputs": [],
   "source": [
    "data = pd.read_csv('data/reviews.csv')\n",
    "data = data[data['review'].apply(lambda x: isinstance(x, str))]\n",
    "data = data[data['stars'].apply(lambda x: not np.isnan(x) and (x == 1 or x == 5))]\n",
    "data['review'] = data['review'].apply(lambda x: ''.join(re.findall('\\w+', x)))\n",
    "data['created_at'] = data['created_at'].apply(pd.to_datetime)\n",
    "data['year'] = data['created_at'].apply(lambda x: x.year)\n",
    "data['stars'] = data['stars'].apply(lambda x: int(x))\n",
    "data['stars_normalize'] = data['stars'].apply(lambda x: x / 5)"
   ]
  }
 ],
 "metadata": {
  "kernelspec": {
   "display_name": "Python 2",
   "language": "python",
   "name": "python2"
  },
  "language_info": {
   "codemirror_mode": {
    "name": "ipython",
    "version": 2
   },
   "file_extension": ".py",
   "mimetype": "text/x-python",
   "name": "python",
   "nbconvert_exporter": "python",
   "pygments_lexer": "ipython2",
   "version": "2.7.6"
  }
 },
 "nbformat": 4,
 "nbformat_minor": 0
}
